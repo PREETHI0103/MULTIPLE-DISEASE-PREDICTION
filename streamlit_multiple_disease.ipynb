{
  "nbformat": 4,
  "nbformat_minor": 0,
  "metadata": {
    "colab": {
      "provenance": []
    },
    "kernelspec": {
      "name": "python3",
      "display_name": "Python 3"
    },
    "language_info": {
      "name": "python"
    }
  },
  "cells": [
    {
      "cell_type": "code",
      "source": [
        "from google.colab import drive\n",
        "drive.mount('/content/drive')"
      ],
      "metadata": {
        "colab": {
          "base_uri": "https://localhost:8080/"
        },
        "id": "d0meIhtepoEx",
        "outputId": "1df5825d-279f-49f9-9df1-ff5fc135cf54"
      },
      "execution_count": 58,
      "outputs": [
        {
          "output_type": "stream",
          "name": "stdout",
          "text": [
            "Drive already mounted at /content/drive; to attempt to forcibly remount, call drive.mount(\"/content/drive\", force_remount=True).\n"
          ]
        }
      ]
    },
    {
      "cell_type": "code",
      "execution_count": 59,
      "metadata": {
        "id": "lkxVaJEFZ2aX",
        "colab": {
          "base_uri": "https://localhost:8080/"
        },
        "outputId": "f546fadb-c6e4-449b-f2fd-69b027f63f94"
      },
      "outputs": [
        {
          "output_type": "stream",
          "name": "stdout",
          "text": [
            "Requirement already satisfied: streamlit in /usr/local/lib/python3.11/dist-packages (1.44.1)\n",
            "Requirement already satisfied: altair<6,>=4.0 in /usr/local/lib/python3.11/dist-packages (from streamlit) (5.5.0)\n",
            "Requirement already satisfied: blinker<2,>=1.0.0 in /usr/local/lib/python3.11/dist-packages (from streamlit) (1.9.0)\n",
            "Requirement already satisfied: cachetools<6,>=4.0 in /usr/local/lib/python3.11/dist-packages (from streamlit) (5.5.2)\n",
            "Requirement already satisfied: click<9,>=7.0 in /usr/local/lib/python3.11/dist-packages (from streamlit) (8.1.8)\n",
            "Requirement already satisfied: numpy<3,>=1.23 in /usr/local/lib/python3.11/dist-packages (from streamlit) (2.0.2)\n",
            "Requirement already satisfied: packaging<25,>=20 in /usr/local/lib/python3.11/dist-packages (from streamlit) (24.2)\n",
            "Requirement already satisfied: pandas<3,>=1.4.0 in /usr/local/lib/python3.11/dist-packages (from streamlit) (2.2.2)\n",
            "Requirement already satisfied: pillow<12,>=7.1.0 in /usr/local/lib/python3.11/dist-packages (from streamlit) (11.1.0)\n",
            "Requirement already satisfied: protobuf<6,>=3.20 in /usr/local/lib/python3.11/dist-packages (from streamlit) (5.29.4)\n",
            "Requirement already satisfied: pyarrow>=7.0 in /usr/local/lib/python3.11/dist-packages (from streamlit) (18.1.0)\n",
            "Requirement already satisfied: requests<3,>=2.27 in /usr/local/lib/python3.11/dist-packages (from streamlit) (2.32.3)\n",
            "Requirement already satisfied: tenacity<10,>=8.1.0 in /usr/local/lib/python3.11/dist-packages (from streamlit) (9.1.2)\n",
            "Requirement already satisfied: toml<2,>=0.10.1 in /usr/local/lib/python3.11/dist-packages (from streamlit) (0.10.2)\n",
            "Requirement already satisfied: typing-extensions<5,>=4.4.0 in /usr/local/lib/python3.11/dist-packages (from streamlit) (4.13.2)\n",
            "Requirement already satisfied: watchdog<7,>=2.1.5 in /usr/local/lib/python3.11/dist-packages (from streamlit) (6.0.0)\n",
            "Requirement already satisfied: gitpython!=3.1.19,<4,>=3.0.7 in /usr/local/lib/python3.11/dist-packages (from streamlit) (3.1.44)\n",
            "Requirement already satisfied: pydeck<1,>=0.8.0b4 in /usr/local/lib/python3.11/dist-packages (from streamlit) (0.9.1)\n",
            "Requirement already satisfied: tornado<7,>=6.0.3 in /usr/local/lib/python3.11/dist-packages (from streamlit) (6.4.2)\n",
            "Requirement already satisfied: jinja2 in /usr/local/lib/python3.11/dist-packages (from altair<6,>=4.0->streamlit) (3.1.6)\n",
            "Requirement already satisfied: jsonschema>=3.0 in /usr/local/lib/python3.11/dist-packages (from altair<6,>=4.0->streamlit) (4.23.0)\n",
            "Requirement already satisfied: narwhals>=1.14.2 in /usr/local/lib/python3.11/dist-packages (from altair<6,>=4.0->streamlit) (1.35.0)\n",
            "Requirement already satisfied: gitdb<5,>=4.0.1 in /usr/local/lib/python3.11/dist-packages (from gitpython!=3.1.19,<4,>=3.0.7->streamlit) (4.0.12)\n",
            "Requirement already satisfied: python-dateutil>=2.8.2 in /usr/local/lib/python3.11/dist-packages (from pandas<3,>=1.4.0->streamlit) (2.8.2)\n",
            "Requirement already satisfied: pytz>=2020.1 in /usr/local/lib/python3.11/dist-packages (from pandas<3,>=1.4.0->streamlit) (2025.2)\n",
            "Requirement already satisfied: tzdata>=2022.7 in /usr/local/lib/python3.11/dist-packages (from pandas<3,>=1.4.0->streamlit) (2025.2)\n",
            "Requirement already satisfied: charset-normalizer<4,>=2 in /usr/local/lib/python3.11/dist-packages (from requests<3,>=2.27->streamlit) (3.4.1)\n",
            "Requirement already satisfied: idna<4,>=2.5 in /usr/local/lib/python3.11/dist-packages (from requests<3,>=2.27->streamlit) (3.10)\n",
            "Requirement already satisfied: urllib3<3,>=1.21.1 in /usr/local/lib/python3.11/dist-packages (from requests<3,>=2.27->streamlit) (2.3.0)\n",
            "Requirement already satisfied: certifi>=2017.4.17 in /usr/local/lib/python3.11/dist-packages (from requests<3,>=2.27->streamlit) (2025.1.31)\n",
            "Requirement already satisfied: smmap<6,>=3.0.1 in /usr/local/lib/python3.11/dist-packages (from gitdb<5,>=4.0.1->gitpython!=3.1.19,<4,>=3.0.7->streamlit) (5.0.2)\n",
            "Requirement already satisfied: MarkupSafe>=2.0 in /usr/local/lib/python3.11/dist-packages (from jinja2->altair<6,>=4.0->streamlit) (3.0.2)\n",
            "Requirement already satisfied: attrs>=22.2.0 in /usr/local/lib/python3.11/dist-packages (from jsonschema>=3.0->altair<6,>=4.0->streamlit) (25.3.0)\n",
            "Requirement already satisfied: jsonschema-specifications>=2023.03.6 in /usr/local/lib/python3.11/dist-packages (from jsonschema>=3.0->altair<6,>=4.0->streamlit) (2024.10.1)\n",
            "Requirement already satisfied: referencing>=0.28.4 in /usr/local/lib/python3.11/dist-packages (from jsonschema>=3.0->altair<6,>=4.0->streamlit) (0.36.2)\n",
            "Requirement already satisfied: rpds-py>=0.7.1 in /usr/local/lib/python3.11/dist-packages (from jsonschema>=3.0->altair<6,>=4.0->streamlit) (0.24.0)\n",
            "Requirement already satisfied: six>=1.5 in /usr/local/lib/python3.11/dist-packages (from python-dateutil>=2.8.2->pandas<3,>=1.4.0->streamlit) (1.17.0)\n"
          ]
        }
      ],
      "source": [
        "%pip install streamlit"
      ]
    },
    {
      "cell_type": "code",
      "source": [
        "%%writefile multiple_disease_app.py\n",
        "import streamlit as st\n",
        "import joblib\n",
        "import pandas as pd\n",
        "import plotly.graph_objects as go\n",
        "import os\n",
        "\n",
        "st.set_page_config(page_title=\"Multi-Disease Prediction App\",page_icon=\"🧬\",layout=\"centered\",initial_sidebar_state=\"expanded\")\n",
        "\n",
        "st.markdown(\"\"\"<style>/* Main background with light overlay */.stApp {background: linear-gradient(rgba(255, 255, 255, 0.60), rgba(255, 255, 255, 0.60)),\n",
        "url(\"https://www.sparshhospital.com/wp-content/uploads/2024/12/infec.jpg\");\n",
        "background-size: cover;background-position: center;background-attachment: fixed;}\n",
        "\n",
        "/* Content container */\n",
        ".main .block-container {background-color: rgba(255, 255, 255, 0.85);border-radius: 15px;padding: 2.5rem;box-shadow: 0 4px 20px rgba(0, 0, 0, 0.08);\n",
        "border: 1px solid rgba(0, 0, 0, 0.05);}\n",
        "\n",
        "/* Sidebar */\n",
        ".sidebar .sidebar-content {background-color: rgba(255, 255, 255, 0.9);border-radius: 15px;box-shadow: 0 4px 20px rgba(0, 0, 0, 0.08);backdrop-filter: blur(4px);}\n",
        "\n",
        "/* ===== IMPROVED FEATURE LABELS/VALUES ===== */\n",
        ".feature-label {color: #2c3e50 !important;  /* Dark blue-gray for better contrast */font-weight: 600 !important;font-size: 16px !important;margin-bottom: 0.2rem !important;}\n",
        "\n",
        ".feature-value input {background-color: rgba(245, 245, 245, 0.9) !important;border: 1px solid #dfe6e9 !important;border-radius: 8px !important;padding: 8px 12px !important;}\n",
        "\n",
        ".stNumberInput, .stSelectbox {background-color: rgba(245, 245, 245, 0.9) !important;border-radius: 8px !important;}\n",
        "\n",
        "/* ===== HEADERS ===== */\n",
        ".multiple-disease-header {color: #FF6347;font-size: 36px;font-weight: 700;text-align: center;margin-bottom: 1.5rem;text-shadow: none;}\n",
        "\n",
        ".disease-header {color: #c0392b;font-size: 28px;font-weight: 600;text-align: center;margin-bottom: 1.2rem;}\n",
        "\n",
        ".patient-details {color: #7f8c8d;font-size: 18px;font-weight: 500;text-align: center;margin-bottom: 2rem;font-style: italic;}\n",
        "\n",
        "/* ===== BUTTONS ===== */\n",
        ".stButton>button {background-color: #e74c3c !important;color: white !important;font-weight: 600 !important;border-radius: 8px !important;padding: 10px 24px !important;\n",
        "border: none !important;}\n",
        "\n",
        ".stButton>button:hover {background-color: #c0392b !important;transform: scale(1.02);}\n",
        "\n",
        "/* ===== INPUT FOCUS EFFECTS ===== */\n",
        ".stTextInput input:focus,\n",
        ".stNumberInput input:focus,\n",
        ".stSelectbox select:focus {border-color: #e74c3c !important;box-shadow: 0 0 0 2px rgba(231, 76, 60, 0.2) !important;}</style>\"\"\", unsafe_allow_html=True)\n",
        "\n",
        "st.sidebar.title(\"Select Disease to Predict 🧬\")\n",
        "\n",
        "disease_options = [(\"Kidney Disease 🩺\", \"kidney\"),(\"Liver Disease 🏥\", \"liver\"),(\"Parkinson's Disease 🧠\", \"parkinsons\")]\n",
        "\n",
        "selected_disease = st.sidebar.selectbox(\"Choose Disease to Predict 🧬\",options=[option[0] for option in disease_options])\n",
        "\n",
        "def load_components(model_path, scaler_path, features_path):\n",
        "  model = joblib.load(model_path)\n",
        "  scaler = joblib.load(scaler_path)\n",
        "  features = joblib.load(features_path)\n",
        "  return model, scaler, features\n",
        "\n",
        "def show_probability_chart(probability):\n",
        "  if probability <= 0.3:\n",
        "      color = \"#2ecc71\"\n",
        "  elif probability <= 0.7:\n",
        "      color = \"#f1c40f\"\n",
        "  else:\n",
        "      color = \"#FF6347\"\n",
        "\n",
        "  fig = go.Figure(go.Indicator(\n",
        "      mode=\"gauge+number+delta\",\n",
        "      value=probability * 100,\n",
        "      domain={'x': [0, 1], 'y': [0, 1]},\n",
        "      title={'text': \"Probability of Disease\", 'font': {'size': 24}},\n",
        "      gauge={\n",
        "          'axis': {'range': [0, 100], 'tickwidth': 1, 'tickcolor': \"black\"},\n",
        "          'bar': {'color': color, 'thickness': 0.4},\n",
        "          'steps': [\n",
        "              {'range': [0, 30], 'color': \"#2ecc71\"},\n",
        "              {'range': [30, 70], 'color': \"#f1c40f\"},\n",
        "              {'range': [70, 100], 'color': \"#FF6347\"},\n",
        "          ],\n",
        "          'threshold': {\n",
        "              'line': {'color': \"black\", 'width': 4},\n",
        "              'thickness': 0.75,\n",
        "              'value': probability * 100\n",
        "          }\n",
        "      }\n",
        "  ))\n",
        "\n",
        "  st.plotly_chart(fig, use_container_width=True)\n",
        "\n",
        "st.markdown(\"<h2 class='multiple-disease-header'>MULTIPLE DISEASE PREDICTION 🔬</h2>\", unsafe_allow_html=True)\n",
        "\n",
        "# KIDNEY\n",
        "if \"Kidney\" in selected_disease:\n",
        "  st.markdown(\"<h3 class='disease-header'>Kidney Disease Prediction 🩺</h3>\", unsafe_allow_html=True)\n",
        "  st.markdown(\"<h4 class='patient-details'>*Fill the Patient's Details to Get the Prediction*</h4>\", unsafe_allow_html=True)\n",
        "\n",
        "  model, scaler, features = load_components(\"/content/drive/MyDrive/xgboost_model_kidney.pkl\",\"/content/drive/MyDrive/scaler_kidney.pkl\",\n",
        "      \"/content/drive/MyDrive/top10_features_kidney.pkl\")\n",
        "\n",
        "  labels = {'pcv': ('Packed Cell Volume (pcv)', '🩸'),\n",
        "      'hemo': ('Hemoglobin (hemo)', '🩸'),\n",
        "      'sg': ('Specific Gravity (sg)', '🌊'),\n",
        "      'sc': ('Serum Creatinine (sc)', '🧬'),\n",
        "      'rc': ('Red Blood Cell Count (rc)', '🩸'),\n",
        "      'al': ('Albumin Level (al)', '🥛'),\n",
        "      'htn': ('Hypertension (htn)', '💔'),\n",
        "      'sod': ('Sodium (sod)', '🧂'),\n",
        "      'bu': ('Blood Urea (bu)', '💉'),\n",
        "      'dm': ('Diabetes Mellitus (dm)', '🍬')}\n",
        "\n",
        "  user_input = {}\n",
        "  for f in features:\n",
        "    label, emoji = labels.get(f, (f, '🔬'))\n",
        "    if f in ['htn', 'dm']:\n",
        "        user_input[f] = 1 if st.selectbox(f\"{emoji} {label}:\", ['Yes', 'No']) == 'Yes' else 0\n",
        "    else:\n",
        "        user_input[f] = st.number_input(f\"{emoji} {label}:\", step=0.01, format=\"%.2f\")\n",
        "\n",
        "  if st.button(\"🔍 Predict Kidney Disease 🩺\"):\n",
        "    df = pd.DataFrame([user_input])\n",
        "    scaled_array = scaler.transform(df[features])\n",
        "    scaled = pd.DataFrame(scaled_array, columns=features)\n",
        "    pred = model.predict(scaled)[0]\n",
        "    prob = model.predict_proba(scaled)[0][1]\n",
        "\n",
        "    show_probability_chart(prob)\n",
        "\n",
        "    if pred == 1:\n",
        "        st.error(\"⚠️ The person **has kidney disease**.\")\n",
        "    else:\n",
        "        st.success(\"✅ The person **does not have kidney disease**.\")\n",
        "\n",
        "# LIVER\n",
        "elif \"Liver\" in selected_disease:\n",
        "  st.markdown(\"<h3 class='disease-header'>Liver Disease Prediction 🏥</h3>\", unsafe_allow_html=True)\n",
        "  st.markdown(\"<h4 class='patient-details'>*Fill the Patient's Details to Get the Prediction*</h4>\", unsafe_allow_html=True)\n",
        "\n",
        "  model, scaler, features = load_components(\"/content/drive/MyDrive/best_random_forest_model_liver.pkl\",\"/content/drive/MyDrive/scaler_liver.pkl\",\n",
        "      \"/content/drive/MyDrive/top7_features_liver.pkl\")\n",
        "\n",
        "  labels = {'Total_Bilirubin': ('Total Bilirubin', '🧪'),\n",
        "      'Direct_Bilirubin': ('Direct Bilirubin', '🔬'),\n",
        "      'Alkaline_Phosphotase': ('Alkaline Phosphotase', '💉'),\n",
        "      'Alamine_Aminotransferase': ('Alamine Aminotransferase', '🧬'),\n",
        "      'Aspartate_Aminotransferase': ('Aspartate Aminotransferase', '🔬'),\n",
        "      'Albumin_and_Globulin_Ratio': ('Albumin/Globulin Ratio', '💊'),\n",
        "      'Age': ('Age', '👶')}\n",
        "\n",
        "  user_input = {}\n",
        "  for f in features:\n",
        "    label, emoji = labels.get(f, (f, '🧬'))\n",
        "    user_input[f] = st.number_input(f\"{emoji} {label}:\", step=0.01, format=\"%.2f\")\n",
        "\n",
        "  if st.button(\"🔍 Predict Liver Disease 🏥\"):\n",
        "    df = pd.DataFrame([user_input])\n",
        "    scaled_array = scaler.transform(df[features])\n",
        "    scaled = pd.DataFrame(scaled_array, columns=features)\n",
        "    pred = model.predict(scaled)[0]\n",
        "    prob = model.predict_proba(scaled)[0][1]\n",
        "\n",
        "    show_probability_chart(prob)\n",
        "\n",
        "    if pred == 1:\n",
        "        st.error(\"⚠️ The person **has liver disease**.\")\n",
        "    else:\n",
        "        st.success(\"✅ The person **does not have liver disease**.\")\n",
        "\n",
        "# PARKINSON'S\n",
        "elif \"Parkinson\" in selected_disease:\n",
        "  st.markdown(\"<h3 class='disease-header'>Parkinson's Disease Prediction 🧠</h3>\", unsafe_allow_html=True)\n",
        "  st.markdown(\"<h4 class='patient-details'>*Fill the Patient's Details to Get the Prediction*</h4>\", unsafe_allow_html=True)\n",
        "\n",
        "  model, scaler, features = load_components(\"/content/drive/MyDrive/random_forest_model_parkinsons.pkl\",\"/content/drive/MyDrive/minmax_scaler_parkinsons.pkl\",\n",
        "      \"/content/drive/MyDrive/top10_features(parkinsons).pkl\")\n",
        "\n",
        "  labels = {'ppe': ('PPE', '🧠'),\n",
        "      'spread1': ('Spread1', '🔊'),\n",
        "      'shimmer:apq5': ('Shimmer (APQ5)', '🎶'),\n",
        "      'mdvp:fo(hz)': ('MDVP Fo (Hz)', '🎧'),\n",
        "      'spread2': ('Spread2', '📡'),\n",
        "      'mdvp:shimmer': ('MDVP Shimmer', '🎙'),\n",
        "      'mdvp:fhi(hz)': ('MDVP Fhi (Hz)', '🎵'),\n",
        "      'shimmer:dda': ('Shimmer DDA', '🎤'),\n",
        "      'mdvp:apq': ('MDVP APQ', '🎼'),\n",
        "      'mdvp:flo(hz)': ('MDVP Flo (Hz)', '🎵')}\n",
        "\n",
        "  user_input = {}\n",
        "  for f in features:\n",
        "    label, emoji = labels.get(f, (f, '🔋'))\n",
        "    user_input[f] = st.number_input(f\"{emoji} {label}:\", step=0.01, format=\"%.2f\")\n",
        "\n",
        "  if st.button(\"🔍 Predict Parkinson's Disease 🧠\"):\n",
        "    df = pd.DataFrame([user_input])\n",
        "    scaled_array = scaler.transform(df[features])\n",
        "    scaled = pd.DataFrame(scaled_array, columns=features)\n",
        "    pred = model.predict(scaled)[0]\n",
        "    prob = model.predict_proba(scaled)[0][1]\n",
        "\n",
        "    show_probability_chart(prob)\n",
        "\n",
        "    if pred == 1:\n",
        "        st.error(\"⚠️ The person **has Parkinson's disease**.\")\n",
        "    else:\n",
        "        st.success(\"✅ The person **does not have Parkinson's disease**.\")\n"
      ],
      "metadata": {
        "colab": {
          "base_uri": "https://localhost:8080/"
        },
        "id": "kaAuOXppFULf",
        "outputId": "abb3632b-a819-4966-f8b8-b497ec53c3fb"
      },
      "execution_count": 65,
      "outputs": [
        {
          "output_type": "stream",
          "name": "stdout",
          "text": [
            "Overwriting multiple_disease_app.py\n"
          ]
        }
      ]
    },
    {
      "cell_type": "code",
      "source": [
        "!pip install streamlit pyngrok --quiet\n",
        "!ngrok authtoken 2tI38eREv66ZaZyqn9M3e7VrkhK_4ytUHi3iFwZnHY7QVDj5j"
      ],
      "metadata": {
        "id": "c8XMhFN8aqRe",
        "colab": {
          "base_uri": "https://localhost:8080/"
        },
        "outputId": "a7ef3c46-296b-4993-82c2-5ba585dd31ed"
      },
      "execution_count": 61,
      "outputs": [
        {
          "output_type": "stream",
          "name": "stdout",
          "text": [
            "Authtoken saved to configuration file: /root/.config/ngrok/ngrok.yml\n"
          ]
        }
      ]
    },
    {
      "cell_type": "code",
      "source": [
        "import os\n",
        "import time\n",
        "from pyngrok import ngrok\n",
        "public_url = ngrok.connect(8501)\n",
        "print(f\"Streamlit is running at: {public_url}\")\n",
        "\n",
        "!streamlit run multiple_disease_app.py --server.port 8501 --server.headless true &\n",
        "\n",
        "time.sleep(3)"
      ],
      "metadata": {
        "id": "ajGNZQjCaxCD",
        "colab": {
          "base_uri": "https://localhost:8080/"
        },
        "outputId": "cef0cf6d-edf9-4d41-e4d0-0b3221fb62e1"
      },
      "execution_count": 64,
      "outputs": [
        {
          "output_type": "stream",
          "name": "stdout",
          "text": [
            "Streamlit is running at: NgrokTunnel: \"https://031e-34-168-224-42.ngrok-free.app\" -> \"http://localhost:8501\"\n",
            "\n",
            "Collecting usage statistics. To deactivate, set browser.gatherUsageStats to false.\n",
            "\u001b[0m\n",
            "\u001b[0m\n",
            "\u001b[34m\u001b[1m  You can now view your Streamlit app in your browser.\u001b[0m\n",
            "\u001b[0m\n",
            "\u001b[34m  Local URL: \u001b[0m\u001b[1mhttp://localhost:8501\u001b[0m\n",
            "\u001b[34m  Network URL: \u001b[0m\u001b[1mhttp://172.28.0.12:8501\u001b[0m\n",
            "\u001b[34m  External URL: \u001b[0m\u001b[1mhttp://34.168.224.42:8501\u001b[0m\n",
            "\u001b[0m\n",
            "\u001b[34m  Stopping...\u001b[0m\n"
          ]
        }
      ]
    }
  ]
}